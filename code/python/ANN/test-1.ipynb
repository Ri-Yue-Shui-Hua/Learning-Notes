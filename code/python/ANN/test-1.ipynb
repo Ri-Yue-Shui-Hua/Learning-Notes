{
 "cells": [
  {
   "cell_type": "markdown",
   "metadata": {},
   "source": [
    "参考：[【CV中的Attention机制】语义分割中的scSE模块](https://zhuanlan.zhihu.com/p/102036086)\n",
    "\n",
    "前言: 本文介绍了一个用于语义分割领域的attention模块scSE。scSE模块与之前介绍的BAM模块很类似，不过在这里scSE模块只在语义分割中进行应用和测试，对语义分割准确率带来的提升比较大，还可以让分割边界更加平滑。"
   ]
  },
  {
   "cell_type": "markdown",
   "metadata": {},
   "source": [
    "提出scSE模块论文的全称是：《Concurrent Spatial and Channel ‘Squeeze & Excitation’ in Fully Convolutional Networks 》。这篇文章对SE模块进行了改进，提出了SE模块的三个变体cSE、sSE、scSE，并通过实验证明了了这样的模块可以增强有意义的特征，抑制无用特征。实验是基于两个医学上的数据集MALC Dataset和Visceral Dataset进行实验的。\n",
    "\n",
    "语义分割模型大部分都是类似于U-Net这样的encoder-decoder的形式，先进行下采样，然后进行上采样到与原图一样的尺寸。其添加SE模块可以添加在每个卷积层之后，用于对feature map信息的提炼。具体方案如下图所示："
   ]
  },
  {
   "cell_type": "markdown",
   "metadata": {},
   "source": [
    "<center><img src=\"./img/QQ截图20220906230326.png\" width=600 height=400></center>"
   ]
  },
  {
   "cell_type": "markdown",
   "metadata": {},
   "source": [
    "然后开始分别介绍由SE改进的三个模块，首先说明一下图例:"
   ]
  },
  {
   "cell_type": "markdown",
   "metadata": {},
   "source": [
    "<center><img src=\"./img/QQ截图20220906230911.png\" width=600 height=200></center>"
   ]
  },
  {
   "cell_type": "markdown",
   "metadata": {},
   "source": [
    "# cSE模块："
   ]
  },
  {
   "cell_type": "markdown",
   "metadata": {},
   "source": [
    "<center><img src=\"./img/QQ截图20220906231044.png\" width=600 height=400></center>"
   ]
  },
  {
   "cell_type": "markdown",
   "metadata": {},
   "source": [
    "这个模块类似之前BAM模块里的Channel attention模块，通过观察这个图就很容易理解其实现方法，具体流程如下:\n",
    "\n",
    "- 将feature map通过global average pooling方法从[C, H, W]变为[C, 1, 1]\n",
    "- 然后使用两个1×1×1卷积进行信息的处理，最终得到C维的向量\n",
    "- 然后使用sigmoid函数进行归一化，得到对应的mask\n",
    "- 最后通过channel-wise相乘，得到经过信息校准过的feature map"
   ]
  },
  {
   "cell_type": "code",
   "execution_count": 7,
   "metadata": {},
   "outputs": [
    {
     "name": "stdout",
     "output_type": "stream",
     "text": [
      "in shape: torch.Size([10, 3, 64, 64])\n",
      "U.shape:  torch.Size([10, 3, 64, 64])\n",
      "z.shape:  torch.Size([10, 3, 1, 1])\n",
      "out shape: torch.Size([10, 3, 64, 64])\n"
     ]
    }
   ],
   "source": [
    "import torch\n",
    "import torch.nn as nn\n",
    "\n",
    "\n",
    "class cSE(nn.Module):\n",
    "    def __init__(self, in_channels):\n",
    "        super().__init__()\n",
    "        self.avgpool = nn.AdaptiveAvgPool2d(1)\n",
    "        self.Conv_Squeeze = nn.Conv2d(in_channels,\n",
    "                                      in_channels // 2,\n",
    "                                      kernel_size=1,\n",
    "                                      bias=False)\n",
    "        self.Conv_Excitation = nn.Conv2d(in_channels // 2,\n",
    "                                         in_channels,\n",
    "                                         kernel_size=1,\n",
    "                                         bias=False)\n",
    "        self.norm = nn.Sigmoid()\n",
    "\n",
    "    def forward(self, U):\n",
    "        z = self.avgpool(U)  # shape: [bs, c, h, w] to [bs, c, 1, 1]\n",
    "        z = self.Conv_Squeeze(z)  # shape: [bs, c/2, 1, 1]\n",
    "        z = self.Conv_Excitation(z)  # shape: [bs, c, 1, 1]\n",
    "        z = self.norm(z)\n",
    "        print(\"U.shape: \", U.shape)\n",
    "        print(\"z.shape: \", z.shape)\n",
    "        return U * z.expand_as(U)\n",
    "\n",
    "\n",
    "if __name__ == \"__main__\":\n",
    "    bs, c, h, w = 10, 3, 64, 64\n",
    "    in_tensor = torch.ones(bs, c, h, w)\n",
    "\n",
    "    c_se = cSE(c)\n",
    "    print(\"in shape:\", in_tensor.shape)\n",
    "    out_tensor = c_se(in_tensor)\n",
    "    print(\"out shape:\", out_tensor.shape)"
   ]
  },
  {
   "cell_type": "markdown",
   "metadata": {},
   "source": [
    "# sSE模块\n"
   ]
  },
  {
   "cell_type": "markdown",
   "metadata": {},
   "source": [
    "<center><img src=\"./img/QQ截图20220907210345.png\" width=600 height=400></center>"
   ]
  },
  {
   "cell_type": "markdown",
   "metadata": {},
   "source": [
    "上图是空间注意力机制的实现，与BAM中的实现确实有很大不同，实现过程变得很简单，具体分析如下：\n",
    "\n",
    "- 直接对feature map使用1×1×1卷积, 从[C, H, W]变为[1, H, W]的features\n",
    "- 然后使用sigmoid进行激活得到spatial attention map\n",
    "- 然后直接施加到原始feature map中，完成空间的信息校准\n",
    "NOTE: 这里需要注意一点，先使用1×1×1卷积，后使用sigmoid函数，这个信息无法从图中直接获取，需要理解论文。"
   ]
  },
  {
   "cell_type": "code",
   "execution_count": 6,
   "metadata": {},
   "outputs": [
    {
     "name": "stdout",
     "output_type": "stream",
     "text": [
      "in shape: torch.Size([10, 3, 64, 64])\n",
      "U.shape:  torch.Size([10, 3, 64, 64])\n",
      "q.shape:  torch.Size([10, 1, 64, 64])\n",
      "out shape: torch.Size([10, 3, 64, 64])\n"
     ]
    }
   ],
   "source": [
    "import torch\n",
    "import torch.nn as nn\n",
    "\n",
    "\n",
    "class sSE(nn.Module):\n",
    "    def __init__(self, in_channels):\n",
    "        super().__init__()\n",
    "        self.Conv1x1 = nn.Conv2d(in_channels, 1, kernel_size=1, bias=False)\n",
    "        self.norm = nn.Sigmoid()\n",
    "\n",
    "    def forward(self, U):\n",
    "        q = self.Conv1x1(U) # U:[bs,c,h,w] to q:[bs,1,h,w]\n",
    "        q = self.norm(q)\n",
    "        print(\"U.shape: \", U.shape)\n",
    "        print(\"q.shape: \", q.shape)\n",
    "        return U * q # 广播机制\n",
    "\n",
    "\n",
    "if __name__ == \"__main__\":\n",
    "    bs, c, h, w = 10, 3, 64, 64\n",
    "    in_tensor = torch.ones(bs, c, h, w)\n",
    "\n",
    "    s_se = sSE(c)\n",
    "    s_se.eval()\n",
    "    torch.save(s_se, \"s_se.pth\")\n",
    "    print(\"in shape:\", in_tensor.shape)\n",
    "    out_tensor = s_se(in_tensor)\n",
    "    print(\"out shape:\", out_tensor.shape)"
   ]
  },
  {
   "cell_type": "markdown",
   "metadata": {},
   "source": [
    "# scSE模块"
   ]
  },
  {
   "cell_type": "markdown",
   "metadata": {},
   "source": [
    "<center><img src=\"./img/QQ截图20220907212714.png\" width=600 height=400></center>"
   ]
  },
  {
   "cell_type": "markdown",
   "metadata": {},
   "source": [
    "可以看出scSE是前两个模块的并联，与BAM的并联很相似，具体就是在分别通过sSE和cSE模块后，然后将两个模块相加，得到更为精准校准的feature map, 直接上代码："
   ]
  },
  {
   "cell_type": "code",
   "execution_count": 5,
   "metadata": {},
   "outputs": [
    {
     "name": "stdout",
     "output_type": "stream",
     "text": [
      "in shape: torch.Size([10, 3, 64, 64])\n",
      "out shape: torch.Size([10, 3, 64, 64])\n"
     ]
    }
   ],
   "source": [
    "import torch\n",
    "import torch.nn as nn\n",
    "\n",
    "\n",
    "class sSE(nn.Module):\n",
    "    def __init__(self, in_channels):\n",
    "        super().__init__()\n",
    "        self.Conv1x1 = nn.Conv2d(in_channels, 1, kernel_size=1, bias=False)\n",
    "        self.norm = nn.Sigmoid()\n",
    "\n",
    "    def forward(self, U):\n",
    "        q = self.Conv1x1(U)  # U:[bs,c,h,w] to q:[bs,1,h,w]\n",
    "        q = self.norm(q)\n",
    "        return U * q  # 广播机制\n",
    "\n",
    "class cSE(nn.Module):\n",
    "    def __init__(self, in_channels):\n",
    "        super().__init__()\n",
    "        self.avgpool = nn.AdaptiveAvgPool2d(1)\n",
    "        self.Conv_Squeeze = nn.Conv2d(in_channels, in_channels // 2, kernel_size=1, bias=False)\n",
    "        self.Conv_Excitation = nn.Conv2d(in_channels//2, in_channels, kernel_size=1, bias=False)\n",
    "        self.norm = nn.Sigmoid()\n",
    "\n",
    "    def forward(self, U):\n",
    "        z = self.avgpool(U)# shape: [bs, c, h, w] to [bs, c, 1, 1]\n",
    "        z = self.Conv_Squeeze(z) # shape: [bs, c/2]\n",
    "        z = self.Conv_Excitation(z) # shape: [bs, c]\n",
    "        z = self.norm(z)\n",
    "        return U * z.expand_as(U)\n",
    "\n",
    "class scSE(nn.Module):\n",
    "    def __init__(self, in_channels):\n",
    "        super().__init__()\n",
    "        self.cSE = cSE(in_channels)\n",
    "        self.sSE = sSE(in_channels)\n",
    "\n",
    "    def forward(self, U):\n",
    "        U_sse = self.sSE(U)\n",
    "        U_cse = self.cSE(U)\n",
    "        return U_cse+U_sse\n",
    "\n",
    "if __name__ == \"__main__\":\n",
    "    bs, c, h, w = 10, 3, 64, 64\n",
    "    in_tensor = torch.ones(bs, c, h, w)\n",
    "\n",
    "    sc_se = scSE(c)\n",
    "    print(\"in shape:\",in_tensor.shape)\n",
    "    out_tensor = sc_se(in_tensor)\n",
    "    print(\"out shape:\", out_tensor.shape)"
   ]
  },
  {
   "cell_type": "markdown",
   "metadata": {},
   "source": [
    "# SCN模块"
   ]
  },
  {
   "cell_type": "markdown",
   "metadata": {},
   "source": []
  },
  {
   "cell_type": "code",
   "execution_count": null,
   "metadata": {},
   "outputs": [],
   "source": []
  }
 ],
 "metadata": {
  "kernelspec": {
   "display_name": "Python 3.10.4 ('pytorch110')",
   "language": "python",
   "name": "python3"
  },
  "language_info": {
   "codemirror_mode": {
    "name": "ipython",
    "version": 3
   },
   "file_extension": ".py",
   "mimetype": "text/x-python",
   "name": "python",
   "nbconvert_exporter": "python",
   "pygments_lexer": "ipython3",
   "version": "3.10.6"
  },
  "orig_nbformat": 4,
  "vscode": {
   "interpreter": {
    "hash": "258958af1be13e136df10fa12bbb4938d70d4a9c1cfbd06d7061b3fb6552e281"
   }
  }
 },
 "nbformat": 4,
 "nbformat_minor": 2
}
