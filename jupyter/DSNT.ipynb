{
 "cells": [
  {
   "cell_type": "code",
   "execution_count": 1,
   "metadata": {},
   "outputs": [],
   "source": [
    "import torch\n",
    "def normalized_linspace(length, dtype=None, device=None):\n",
    "    \"\"\"Generate a vector with values ranging from -1 to 1.\n",
    "    Note that the values correspond to the \"centre\" of each cell, so\n",
    "    -1 and 1 are always conceptually outside the bounds of the vector.\n",
    "    For example, if length = 4, the following vector is generated:\n",
    "    ```text\n",
    "     [ -0.75, -0.25,  0.25,  0.75 ]\n",
    "     ^              ^             ^\n",
    "    -1              0             1\n",
    "    ```\n",
    "    Args:\n",
    "        length: The length of the vector\n",
    "    Returns:\n",
    "        The generated vector\n",
    "    \"\"\"\n",
    "    if isinstance(length, torch.Tensor):\n",
    "        length = length.to(device, dtype)\n",
    "    first = -(length - 1.0) / length\n",
    "    return torch.arange(length, dtype=dtype, device=device) * (2.0 / length) + first"
   ]
  },
  {
   "cell_type": "markdown",
   "metadata": {},
   "source": [
    "官方实现没有包含边界值，下面的实现包含了边界值，有没有包含边界值的区别是，结果中会不会出现边界\n",
    "对于二维的情况："
   ]
  },
  {
   "cell_type": "code",
   "execution_count": 2,
   "metadata": {},
   "outputs": [],
   "source": [
    "#  B, C, Y, X = h.shape\n",
    "#  x = torch.linspace(-1, 1, X)\n",
    "#  y = torch.linspace(-1, 1, Y)"
   ]
  },
  {
   "cell_type": "markdown",
   "metadata": {},
   "source": [
    " 对于三维的情况："
   ]
  },
  {
   "cell_type": "code",
   "execution_count": 3,
   "metadata": {},
   "outputs": [],
   "source": [
    "# B, C, Z, Y, X = h.shape\n",
    "#  x = torch.linspace(-1, 1, X)\n",
    "#  y = torch.linspace(-1, 1, Y)\n",
    "#  z = torch.linspace(-1, 1, Z)"
   ]
  },
  {
   "cell_type": "markdown",
   "metadata": {},
   "source": [
    "使用说明：[dsntnn/examples/basic_usage.md](https://github.com/anibali/dsntnn/blob/master/examples/basic_usage.md)\n",
    "\n",
    "下面通过一个坐标点回归任务来学习dsnt的使用\n",
    "\n",
    "下面首先创建一个简单的FCN模型，"
   ]
  },
  {
   "cell_type": "code",
   "execution_count": 5,
   "metadata": {},
   "outputs": [],
   "source": [
    "import torch \n",
    "torch.manual_seed(12345)\n",
    "from torch import nn\n",
    "import dsntnn\n",
    "class FCN(nn.Module):\n",
    "    def __init__(self):\n",
    "        super().__init__()\n",
    "        self.layers = nn.Sequential(\n",
    "            nn.Conv2d(3, 16, kernel_size=3, padding=1),\n",
    "            nn.ReLU(),\n",
    "            nn.BatchNorm2d(16),\n",
    "            nn.Conv2d(16, 16, kernel_size=3, padding=1),\n",
    "            nn.ReLU(),\n",
    "            nn.BatchNorm2d(16),\n",
    "            nn.Conv2d(16, 16, kernel_size=3, padding=1),\n",
    "        )\n",
    "    def forward(self, x):\n",
    "        return self.layers(x)"
   ]
  },
  {
   "cell_type": "markdown",
   "metadata": {},
   "source": [
    "DSNT层可以很方便的扩展到任何的FCN网络后面，来处理坐标点回归任务，下面就是一个例子"
   ]
  },
  {
   "cell_type": "code",
   "execution_count": 6,
   "metadata": {},
   "outputs": [],
   "source": [
    "class CoordRegressionNetwork(nn.Module):\n",
    "    def __init__(self, n_locations):\n",
    "        super().__init__()\n",
    "        self.fcn = FCN()\n",
    "        self.hm_conv = nn.Conv2d(16, n_locations, kernel_size=1, bias=False)\n",
    " \n",
    "    def forward(self, images):\n",
    "        # 1. Run the images through our FCN\n",
    "        fcn_out = self.fcn(images)\n",
    "        # 2. Use a 1x1 conv to get one unnormalized heatmap per location\n",
    "        unnormalized_heatmaps = self.hm_conv(fcn_out)\n",
    "        # 3. Normalize the heatmaps\n",
    "        heatmaps = dsntnn.flat_softmax(unnormalized_heatmaps)\n",
    "        # 4. Calculate the coordinates\n",
    "        coords = dsntnn.dsnt(heatmaps)\n",
    " \n",
    "        return coords, heatmaps"
   ]
  },
  {
   "cell_type": "markdown",
   "metadata": {},
   "source": [
    "训练模型\n",
    "\n",
    "为了训练模型下面创建了一个小浣熊单只眼睛的图像"
   ]
  },
  {
   "cell_type": "code",
   "execution_count": 7,
   "metadata": {},
   "outputs": [
    {
     "data": {
      "image/png": "[encoded data removed]",
      "text/plain": [
       "<Figure size 432x288 with 1 Axes>"
      ]
     },
     "metadata": {
      "needs_background": "light"
     },
     "output_type": "display_data"
    }
   ],
   "source": [
    "from torch import optim\n",
    "import matplotlib.pyplot as plt\n",
    "import scipy\n",
    "import scipy.misc as sm\n",
    "from skimage.transform import resize\n",
    " \n",
    "image_size = [40, 40]\n",
    "image = scipy.misc.face()[200:400, 600:800, :]\n",
    "raccoon_face = resize(image, image_size)  # (40, 40, 3)\n",
    "eye_x, eye_y = 24, 26\n",
    " \n",
    "plt.imshow(raccoon_face)\n",
    "plt.scatter([eye_x], [eye_y], color='red', marker='X')\n",
    "plt.show()"
   ]
  },
  {
   "cell_type": "markdown",
   "metadata": {},
   "source": [
    "由于DSNT输出的坐标范围是(-1, 1)，所以需要将target的坐标也归一化到这个范围"
   ]
  },
  {
   "cell_type": "code",
   "execution_count": 8,
   "metadata": {},
   "outputs": [
    {
     "name": "stdout",
     "output_type": "stream",
     "text": [
      "Target: 0.2250, 0.3250\n"
     ]
    }
   ],
   "source": [
    "import torch\n",
    "raccoon_face_tensor = torch.from_numpy(raccoon_face).permute(2, 0, 1).float()  # torch.Size([3, 40, 40])\n",
    "input_tensor = raccoon_face_tensor.div(255).unsqueeze(0)  # torch.Size([1, 3, 40, 40])\n",
    "input_var = input_tensor.cuda()\n",
    " \n",
    "eye_coords_tensor = torch.Tensor([[[eye_x, eye_y]]])  # shape = [1, 1, 2],value=[[[24., 26.]]]\n",
    "target_tensor = (eye_coords_tensor * 2 + 1) / torch.Tensor(image_size) - 1  # shape = [1, 1, 2],value=[[[0.2250, 0.3250]]]\n",
    "target_var = target_tensor.cuda()\n",
    " \n",
    "print('Target: {:0.4f}, {:0.4f}'.format(*list(target_tensor.squeeze())))\n"
   ]
  },
  {
   "cell_type": "markdown",
   "metadata": {},
   "source": [
    "现在我们训练模型，让模型在小浣熊的眼睛点出过拟合，全部的代码如下"
   ]
  },
  {
   "cell_type": "code",
   "execution_count": 9,
   "metadata": {},
   "outputs": [
    {
     "data": {
      "image/png": "[encoded data removed]",
      "text/plain": [
       "<Figure size 432x288 with 1 Axes>"
      ]
     },
     "metadata": {
      "needs_background": "light"
     },
     "output_type": "display_data"
    },
    {
     "name": "stdout",
     "output_type": "stream",
     "text": [
      "Target: 0.2250, 0.3250\n",
      "Predicted coords: 0.2236, 0.3299\n"
     ]
    },
    {
     "data": {
      "image/png": "[encoded data removed]",
      "text/plain": [
       "<Figure size 432x288 with 1 Axes>"
      ]
     },
     "metadata": {
      "needs_background": "light"
     },
     "output_type": "display_data"
    }
   ],
   "source": [
    "import scipy\n",
    "import scipy.misc as sm\n",
    "from skimage.transform import resize\n",
    "import matplotlib.pyplot as plt\n",
    "import torch\n",
    "torch.manual_seed(12345)\n",
    "from torch import nn\n",
    "import dsntnn\n",
    "import torch.optim as optim\n",
    "class FCN(nn.Module):\n",
    "    def __init__(self):\n",
    "        super().__init__()\n",
    "        self.layers = nn.Sequential(\n",
    "            nn.Conv2d(3, 16, kernel_size=3, padding=1),\n",
    "            nn.ReLU(),\n",
    "            nn.BatchNorm2d(16),\n",
    "            nn.Conv2d(16, 16, kernel_size=3, padding=1),\n",
    "            nn.ReLU(),\n",
    "            nn.BatchNorm2d(16),\n",
    "            nn.Conv2d(16, 16, kernel_size=3, padding=1),\n",
    "        )\n",
    "    def forward(self, x):\n",
    "        return self.layers(x)\n",
    "class CoordRegressionNetwork(nn.Module):\n",
    "    def __init__(self, n_locations):\n",
    "        super().__init__()\n",
    "        self.fcn = FCN()\n",
    "        self.hm_conv = nn.Conv2d(16, n_locations, kernel_size=1, bias=False)\n",
    "    def forward(self, images):\n",
    "        # 1. Run the images through our FCN\n",
    "        fcn_out = self.fcn(images)\n",
    "        # 2. Use a 1x1 conv to get one unnormalized heatmap per location\n",
    "        unnormalized_heatmaps = self.hm_conv(fcn_out)\n",
    "        # 3. Normalize the heatmaps\n",
    "        heatmaps = dsntnn.flat_softmax(unnormalized_heatmaps)\n",
    "        # 4. Calculate the coordinates\n",
    "        coords = dsntnn.dsnt(heatmaps)\n",
    "        return coords, heatmaps\n",
    "image_size = [40, 40]\n",
    "# raccoon_face = sm.imresize(scipy.misc.face()[200:400, 600:800, :], image_size)      # (40, 40, 3)\n",
    "image = scipy.misc.face()[200:400, 600:800, :]\n",
    "raccoon_face = resize(image, image_size)\n",
    "eye_x, eye_y = 24, 26\n",
    "plt.imshow(raccoon_face)\n",
    "plt.scatter([eye_x], [eye_y], color='red', marker='X')\n",
    "plt.show()\n",
    "raccoon_face_tensor = torch.from_numpy(raccoon_face).permute(2, 0, 1).float()   # torch.Size([3, 40, 40])\n",
    "input_tensor = raccoon_face_tensor.div(255).unsqueeze(0)    # torch.Size([1, 3, 40, 40])\n",
    "input_var = input_tensor.cuda()\n",
    "eye_coords_tensor = torch.Tensor([[[eye_x, eye_y]]])    # # shape = [1, 1, 2],value=[[[24., 26.]]]\n",
    "target_tensor = (eye_coords_tensor * 2 + 1) / torch.Tensor(image_size) - 1  # shape = [1, 1, 2],value=[[[0.2250, 0.3250]]]\n",
    "target_var = target_tensor.cuda()\n",
    "print('Target: {:0.4f}, {:0.4f}'.format(*list(target_tensor.squeeze())))\n",
    "model = CoordRegressionNetwork(n_locations=1).cuda()    # n_locations=keypoint num=1\n",
    "# coords, heatmaps = model(input_var)\n",
    "# print('Initial prediction: {:0.4f}, {:0.4f}'.format(*list(coords[0, 0])))\n",
    "# plt.imshow(heatmaps[0, 0].detach().cpu().numpy())\n",
    "# plt.show()\n",
    "optimizer = optim.RMSprop(model.parameters(), lr=2.5e-4)\n",
    "for i in range(400):\n",
    "    # Forward pass\n",
    "    coords, heatmaps = model(input_var)\n",
    "    # coords:shape=[1, 1, 2], value=[[[0.0323, 0.0566]]]; heatmaps:shape=[1, 1, 40, 40]\n",
    "    # Per-location euclidean losses\n",
    "    euc_losses = dsntnn.euclidean_losses(coords, target_var)\n",
    "    # Per-location regularization losses\n",
    "    reg_losses = dsntnn.js_reg_losses(heatmaps, target_var, sigma_t=1.0)\n",
    "    # Combine losses into an overall loss\n",
    "    loss = dsntnn.average_loss(euc_losses + reg_losses)\n",
    "    # Calculate gradients\n",
    "    optimizer.zero_grad()\n",
    "    loss.backward()\n",
    "    # Update model parameters with RMSprop\n",
    "    optimizer.step()\n",
    "# Predictions after training\n",
    "print('Predicted coords: {:0.4f}, {:0.4f}'.format(*list(coords[0, 0])))\n",
    "plt.imshow(heatmaps[0, 0].detach().cpu().numpy())\n",
    "plt.show()\n",
    "\n"
   ]
  },
  {
   "cell_type": "code",
   "execution_count": null,
   "metadata": {},
   "outputs": [],
   "source": [
    "import numpy as np\n",
    "def DSNT_f(h, spacial=None):\n",
    "    B, C, Z, Y, X = h.shape\n",
    "    print(\"B, C, Z, Y, X\", B, C, Z, Y, X)\n",
    "    #heatmap = heatmap * 20\n",
    "    #h = heatmap / torch.sum(heatmap, dim=(2, 3, 4), keepdim=True)\n",
    "    x = torch.linspace(-1, 1, X)\n",
    "    y = torch.linspace(-1, 1, Y)\n",
    "    z = torch.linspace(-1, 1, Z)\n",
    "    x_cord = x.view([B, 1, 1, 1, X])\n",
    "    y_cord = y.view([B, 1, 1, Y, 1])\n",
    "    z_cord = z.view([B, 1, Z, 1, 1])\n",
    "    px = (h * x_cord).sum(dim=(2, 3)).sum(dim=-1)\n",
    "    py = (h * y_cord).sum(dim=(2, 4)).sum(dim=-1)\n",
    "    pz = (h * z_cord).sum(dim=(3, 4)).sum(dim=-1)\n",
    "\n",
    "    #print(x_cord.shape, px.shape, px.view(B, C, 1, 1, 1).shape)\n",
    "    var_x = (h * ((x_cord - px.view(B, C, 1, 1, 1)) ** 2)).sum(dim=(2, 3, 4))\n",
    "    var_y = (h * (y_cord - py.view(B, C, 1, 1, 1)) ** 2).sum(dim=(2, 3, 4))\n",
    "    var_z = (h * (z_cord - pz.view(B, C, 1, 1, 1)) ** 2).sum(dim=(2, 3, 4))\n",
    "    return px, py, pz, var_x, var_y, var_z\n",
    "\n",
    "x = np.random.rand(1, 1, 200, 128, 128)\n",
    "h = torch.from_numpy(x)\n",
    "print(h.shape())"
   ]
  }
 ],
 "metadata": {
  "kernelspec": {
   "display_name": "Python 3.8.12 ('pytorch110')",
   "language": "python",
   "name": "python3"
  },
  "language_info": {
   "codemirror_mode": {
    "name": "ipython",
    "version": 3
   },
   "file_extension": ".py",
   "mimetype": "text/x-python",
   "name": "python",
   "nbconvert_exporter": "python",
   "pygments_lexer": "ipython3",
   "version": "3.8.12"
  },
  "orig_nbformat": 4,
  "vscode": {
   "interpreter": {
    "hash": "258958af1be13e136df10fa12bbb4938d70d4a9c1cfbd06d7061b3fb6552e281"
   }
  }
 },
 "nbformat": 4,
 "nbformat_minor": 2
}
