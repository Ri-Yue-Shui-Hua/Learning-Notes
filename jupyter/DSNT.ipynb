{
 "cells": [
  {
   "cell_type": "code",
   "execution_count": 1,
   "metadata": {},
   "outputs": [],
   "source": [
    "import torch\n",
    "def normalized_linspace(length, dtype=None, device=None):\n",
    "    \"\"\"Generate a vector with values ranging from -1 to 1.\n",
    "    Note that the values correspond to the \"centre\" of each cell, so\n",
    "    -1 and 1 are always conceptually outside the bounds of the vector.\n",
    "    For example, if length = 4, the following vector is generated:\n",
    "    ```text\n",
    "     [ -0.75, -0.25,  0.25,  0.75 ]\n",
    "     ^              ^             ^\n",
    "    -1              0             1\n",
    "    ```\n",
    "    Args:\n",
    "        length: The length of the vector\n",
    "    Returns:\n",
    "        The generated vector\n",
    "    \"\"\"\n",
    "    if isinstance(length, torch.Tensor):\n",
    "        length = length.to(device, dtype)\n",
    "    first = -(length - 1.0) / length\n",
    "    return torch.arange(length, dtype=dtype, device=device) * (2.0 / length) + first"
   ]
  },
  {
   "cell_type": "markdown",
   "metadata": {},
   "source": [
    "官方实现没有包含边界值，下面的实现包含了边界值，有没有包含边界值的区别是，结果中会不会出现边界\n",
    "对于二维的情况："
   ]
  },
  {
   "cell_type": "markdown",
   "metadata": {},
   "source": []
  }
 ],
 "metadata": {
  "kernelspec": {
   "display_name": "Python 3.8.12 ('pytorch110')",
   "language": "python",
   "name": "python3"
  },
  "language_info": {
   "codemirror_mode": {
    "name": "ipython",
    "version": 3
   },
   "file_extension": ".py",
   "mimetype": "text/x-python",
   "name": "python",
   "nbconvert_exporter": "python",
   "pygments_lexer": "ipython3",
   "version": "3.8.12"
  },
  "orig_nbformat": 4,
  "vscode": {
   "interpreter": {
    "hash": "258958af1be13e136df10fa12bbb4938d70d4a9c1cfbd06d7061b3fb6552e281"
   }
  }
 },
 "nbformat": 4,
 "nbformat_minor": 2
}
